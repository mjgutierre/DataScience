{
  "nbformat": 4,
  "nbformat_minor": 0,
  "metadata": {
    "colab": {
      "provenance": [],
      "authorship_tag": "ABX9TyPsNUiZ+50Ks73LJAjuhi+y",
      "include_colab_link": true
    },
    "kernelspec": {
      "name": "python3",
      "display_name": "Python 3"
    },
    "language_info": {
      "name": "python"
    }
  },
  "cells": [
    {
      "cell_type": "markdown",
      "metadata": {
        "id": "view-in-github",
        "colab_type": "text"
      },
      "source": [
        "<a href=\"https://colab.research.google.com/github/mjgutierre/DataScience/blob/main/lab3_pandas_local.ipynb\" target=\"_parent\"><img src=\"https://colab.research.google.com/assets/colab-badge.svg\" alt=\"Open In Colab\"/></a>"
      ]
    },
    {
      "cell_type": "markdown",
      "source": [
        "# Universidad EAFIT Maria jose Gutierrez Estrada 2024-2\n",
        "\n",
        "Se cargaron las librerias necesarias\n",
        "\n",
        "- nltk para 'procesamiento natural del lenguaje'\n",
        "- pandas para procesamiento de dataframes, muy usado en preparación de datos\n",
        "- re - expresiones regulares\n",
        "- numpy, codecs, etc - otras"
      ],
      "metadata": {
        "id": "ZeYMPSrXT2nH"
      }
    },
    {
      "cell_type": "code",
      "execution_count": null,
      "metadata": {
        "colab": {
          "base_uri": "https://localhost:8080/"
        },
        "id": "gIzttqZsTz8Q",
        "outputId": "b76a62fd-1e33-4a7e-c053-508103c8068d"
      },
      "outputs": [
        {
          "output_type": "stream",
          "name": "stdout",
          "text": [
            "Requirement already satisfied: nltk in /usr/local/lib/python3.10/dist-packages (3.8.1)\n",
            "Requirement already satisfied: click in /usr/local/lib/python3.10/dist-packages (from nltk) (8.1.7)\n",
            "Requirement already satisfied: joblib in /usr/local/lib/python3.10/dist-packages (from nltk) (1.4.2)\n",
            "Requirement already satisfied: regex>=2021.8.3 in /usr/local/lib/python3.10/dist-packages (from nltk) (2024.9.11)\n",
            "Requirement already satisfied: tqdm in /usr/local/lib/python3.10/dist-packages (from nltk) (4.66.5)\n",
            "Requirement already satisfied: pandas in /usr/local/lib/python3.10/dist-packages (2.1.4)\n",
            "Requirement already satisfied: numpy<2,>=1.22.4 in /usr/local/lib/python3.10/dist-packages (from pandas) (1.26.4)\n",
            "Requirement already satisfied: python-dateutil>=2.8.2 in /usr/local/lib/python3.10/dist-packages (from pandas) (2.8.2)\n",
            "Requirement already satisfied: pytz>=2020.1 in /usr/local/lib/python3.10/dist-packages (from pandas) (2024.2)\n",
            "Requirement already satisfied: tzdata>=2022.1 in /usr/local/lib/python3.10/dist-packages (from pandas) (2024.1)\n",
            "Requirement already satisfied: six>=1.5 in /usr/local/lib/python3.10/dist-packages (from python-dateutil>=2.8.2->pandas) (1.16.0)\n",
            "Requirement already satisfied: matplotlib in /usr/local/lib/python3.10/dist-packages (3.7.1)\n",
            "Requirement already satisfied: contourpy>=1.0.1 in /usr/local/lib/python3.10/dist-packages (from matplotlib) (1.3.0)\n",
            "Requirement already satisfied: cycler>=0.10 in /usr/local/lib/python3.10/dist-packages (from matplotlib) (0.12.1)\n",
            "Requirement already satisfied: fonttools>=4.22.0 in /usr/local/lib/python3.10/dist-packages (from matplotlib) (4.53.1)\n",
            "Requirement already satisfied: kiwisolver>=1.0.1 in /usr/local/lib/python3.10/dist-packages (from matplotlib) (1.4.7)\n",
            "Requirement already satisfied: numpy>=1.20 in /usr/local/lib/python3.10/dist-packages (from matplotlib) (1.26.4)\n",
            "Requirement already satisfied: packaging>=20.0 in /usr/local/lib/python3.10/dist-packages (from matplotlib) (24.1)\n",
            "Requirement already satisfied: pillow>=6.2.0 in /usr/local/lib/python3.10/dist-packages (from matplotlib) (10.4.0)\n",
            "Requirement already satisfied: pyparsing>=2.3.1 in /usr/local/lib/python3.10/dist-packages (from matplotlib) (3.1.4)\n",
            "Requirement already satisfied: python-dateutil>=2.7 in /usr/local/lib/python3.10/dist-packages (from matplotlib) (2.8.2)\n",
            "Requirement already satisfied: six>=1.5 in /usr/local/lib/python3.10/dist-packages (from python-dateutil>=2.7->matplotlib) (1.16.0)\n",
            "Collecting s3fs\n",
            "  Downloading s3fs-2024.9.0-py3-none-any.whl.metadata (1.6 kB)\n",
            "Collecting aiobotocore<3.0.0,>=2.5.4 (from s3fs)\n",
            "  Downloading aiobotocore-2.15.1-py3-none-any.whl.metadata (23 kB)\n",
            "Collecting fsspec==2024.9.0.* (from s3fs)\n",
            "  Downloading fsspec-2024.9.0-py3-none-any.whl.metadata (11 kB)\n",
            "Requirement already satisfied: aiohttp!=4.0.0a0,!=4.0.0a1 in /usr/local/lib/python3.10/dist-packages (from s3fs) (3.10.5)\n",
            "Collecting botocore<1.35.24,>=1.35.16 (from aiobotocore<3.0.0,>=2.5.4->s3fs)\n",
            "  Downloading botocore-1.35.23-py3-none-any.whl.metadata (5.7 kB)\n",
            "Requirement already satisfied: wrapt<2.0.0,>=1.10.10 in /usr/local/lib/python3.10/dist-packages (from aiobotocore<3.0.0,>=2.5.4->s3fs) (1.16.0)\n",
            "Collecting aioitertools<1.0.0,>=0.5.1 (from aiobotocore<3.0.0,>=2.5.4->s3fs)\n",
            "  Downloading aioitertools-0.12.0-py3-none-any.whl.metadata (3.8 kB)\n",
            "Requirement already satisfied: aiohappyeyeballs>=2.3.0 in /usr/local/lib/python3.10/dist-packages (from aiohttp!=4.0.0a0,!=4.0.0a1->s3fs) (2.4.0)\n",
            "Requirement already satisfied: aiosignal>=1.1.2 in /usr/local/lib/python3.10/dist-packages (from aiohttp!=4.0.0a0,!=4.0.0a1->s3fs) (1.3.1)\n",
            "Requirement already satisfied: attrs>=17.3.0 in /usr/local/lib/python3.10/dist-packages (from aiohttp!=4.0.0a0,!=4.0.0a1->s3fs) (24.2.0)\n",
            "Requirement already satisfied: frozenlist>=1.1.1 in /usr/local/lib/python3.10/dist-packages (from aiohttp!=4.0.0a0,!=4.0.0a1->s3fs) (1.4.1)\n",
            "Requirement already satisfied: multidict<7.0,>=4.5 in /usr/local/lib/python3.10/dist-packages (from aiohttp!=4.0.0a0,!=4.0.0a1->s3fs) (6.1.0)\n",
            "Requirement already satisfied: yarl<2.0,>=1.0 in /usr/local/lib/python3.10/dist-packages (from aiohttp!=4.0.0a0,!=4.0.0a1->s3fs) (1.11.1)\n",
            "Requirement already satisfied: async-timeout<5.0,>=4.0 in /usr/local/lib/python3.10/dist-packages (from aiohttp!=4.0.0a0,!=4.0.0a1->s3fs) (4.0.3)\n",
            "Collecting jmespath<2.0.0,>=0.7.1 (from botocore<1.35.24,>=1.35.16->aiobotocore<3.0.0,>=2.5.4->s3fs)\n",
            "  Downloading jmespath-1.0.1-py3-none-any.whl.metadata (7.6 kB)\n",
            "Requirement already satisfied: python-dateutil<3.0.0,>=2.1 in /usr/local/lib/python3.10/dist-packages (from botocore<1.35.24,>=1.35.16->aiobotocore<3.0.0,>=2.5.4->s3fs) (2.8.2)\n",
            "Requirement already satisfied: urllib3!=2.2.0,<3,>=1.25.4 in /usr/local/lib/python3.10/dist-packages (from botocore<1.35.24,>=1.35.16->aiobotocore<3.0.0,>=2.5.4->s3fs) (2.0.7)\n",
            "Requirement already satisfied: typing-extensions>=4.1.0 in /usr/local/lib/python3.10/dist-packages (from multidict<7.0,>=4.5->aiohttp!=4.0.0a0,!=4.0.0a1->s3fs) (4.12.2)\n",
            "Requirement already satisfied: idna>=2.0 in /usr/local/lib/python3.10/dist-packages (from yarl<2.0,>=1.0->aiohttp!=4.0.0a0,!=4.0.0a1->s3fs) (3.10)\n",
            "Requirement already satisfied: six>=1.5 in /usr/local/lib/python3.10/dist-packages (from python-dateutil<3.0.0,>=2.1->botocore<1.35.24,>=1.35.16->aiobotocore<3.0.0,>=2.5.4->s3fs) (1.16.0)\n",
            "Downloading s3fs-2024.9.0-py3-none-any.whl (29 kB)\n",
            "Downloading fsspec-2024.9.0-py3-none-any.whl (179 kB)\n",
            "\u001b[2K   \u001b[90m━━━━━━━━━━━━━━━━━━━━━━━━━━━━━━━━━━━━━━━━\u001b[0m \u001b[32m179.3/179.3 kB\u001b[0m \u001b[31m6.5 MB/s\u001b[0m eta \u001b[36m0:00:00\u001b[0m\n",
            "\u001b[?25hDownloading aiobotocore-2.15.1-py3-none-any.whl (77 kB)\n",
            "\u001b[2K   \u001b[90m━━━━━━━━━━━━━━━━━━━━━━━━━━━━━━━━━━━━━━━━\u001b[0m \u001b[32m77.4/77.4 kB\u001b[0m \u001b[31m5.5 MB/s\u001b[0m eta \u001b[36m0:00:00\u001b[0m\n",
            "\u001b[?25hDownloading aioitertools-0.12.0-py3-none-any.whl (24 kB)\n",
            "Downloading botocore-1.35.23-py3-none-any.whl (12.6 MB)\n",
            "\u001b[2K   \u001b[90m━━━━━━━━━━━━━━━━━━━━━━━━━━━━━━━━━━━━━━━━\u001b[0m \u001b[32m12.6/12.6 MB\u001b[0m \u001b[31m65.8 MB/s\u001b[0m eta \u001b[36m0:00:00\u001b[0m\n",
            "\u001b[?25hDownloading jmespath-1.0.1-py3-none-any.whl (20 kB)\n",
            "Installing collected packages: jmespath, fsspec, aioitertools, botocore, aiobotocore, s3fs\n",
            "  Attempting uninstall: fsspec\n",
            "    Found existing installation: fsspec 2024.6.1\n",
            "    Uninstalling fsspec-2024.6.1:\n",
            "      Successfully uninstalled fsspec-2024.6.1\n",
            "\u001b[31mERROR: pip's dependency resolver does not currently take into account all the packages that are installed. This behaviour is the source of the following dependency conflicts.\n",
            "gcsfs 2024.6.1 requires fsspec==2024.6.1, but you have fsspec 2024.9.0 which is incompatible.\u001b[0m\u001b[31m\n",
            "\u001b[0mSuccessfully installed aiobotocore-2.15.1 aioitertools-0.12.0 botocore-1.35.23 fsspec-2024.9.0 jmespath-1.0.1 s3fs-2024.9.0\n"
          ]
        }
      ],
      "source": [
        "# dependencias que eventualmente requerirá instalar:\n",
        "!pip3 install nltk\n",
        "!pip3 install pandas\n",
        "!pip3 install matplotlib\n",
        "!pip install s3fs"
      ]
    },
    {
      "cell_type": "code",
      "source": [
        "import nltk\n",
        "import pandas as pd\n",
        "import numpy as np\n",
        "import re\n",
        "import codecs\n",
        "import matplotlib.pyplot as plt"
      ],
      "metadata": {
        "id": "1Uib4EA5UFP6"
      },
      "execution_count": null,
      "outputs": []
    },
    {
      "cell_type": "code",
      "source": [
        "# directorios (path) de entrada y salida:#\n",
        "\n",
        "path_in=\"../datasets/\"\n",
        "path_out=\"../out/\"\n",
        "filename='doaj_1.csv'"
      ],
      "metadata": {
        "id": "S3Y7-5JEUHfx"
      },
      "execution_count": null,
      "outputs": []
    },
    {
      "cell_type": "code",
      "source": [
        "# corpus de nltk para 'tokenizer' y 'stopwords'\n",
        "nltk.download('punkt')\n",
        "nltk.download('stopwords')"
      ],
      "metadata": {
        "colab": {
          "base_uri": "https://localhost:8080/"
        },
        "id": "f38NHticUM3H",
        "outputId": "e3041f2b-3780-4fee-cf45-99d0427f4dea"
      },
      "execution_count": null,
      "outputs": [
        {
          "output_type": "stream",
          "name": "stderr",
          "text": [
            "[nltk_data] Downloading package punkt to /root/nltk_data...\n",
            "[nltk_data]   Unzipping tokenizers/punkt.zip.\n",
            "[nltk_data] Downloading package stopwords to /root/nltk_data...\n",
            "[nltk_data]   Unzipping corpora/stopwords.zip.\n"
          ]
        },
        {
          "output_type": "execute_result",
          "data": {
            "text/plain": [
              "True"
            ]
          },
          "metadata": {},
          "execution_count": 14
        }
      ]
    },
    {
      "cell_type": "code",
      "source": [
        "# abrir un archivo con pandas desde aws s3\n",
        "df = pd.read_csv('s3://mjgutierrelab2-20242/datasets/doaj_1.csv',delimiter=',')\n",
        "df.head()"
      ],
      "metadata": {
        "colab": {
          "base_uri": "https://localhost:8080/",
          "height": 328
        },
        "id": "a5yjsUoLUPpe",
        "outputId": "1b7843da-0001-4a04-c33c-5deb1f2b9f18"
      },
      "execution_count": null,
      "outputs": [
        {
          "output_type": "execute_result",
          "data": {
            "text/plain": [
              "                                               title  \\\n",
              "0  Crystal structure of apatite type Ca2.49Nd7.51...   \n",
              "1  Genetic Programming for Medicinal Plant Family...   \n",
              "2  Managing reality shock: Expectations versus ex...   \n",
              "3  A Review of Systems and Technologies for Smart...   \n",
              "4  Functional testing of the vestibular ocular re...   \n",
              "\n",
              "                                                 url                 path  \\\n",
              "0  http://scripts.iucr.org/cgi-bin/paper?S2056989...  article_batch_1.csv   \n",
              "1  http://journals.itb.ac.id/index.php/jictra/art...  article_batch_1.csv   \n",
              "2  https://sajip.co.za/index.php/sajip/article/vi...  article_batch_1.csv   \n",
              "3              http://www.mdpi.com/1996-1073/9/5/348  article_batch_1.csv   \n",
              "4  http://journal.frontiersin.org/Journal/10.3389...  article_batch_1.csv   \n",
              "\n",
              "                                            keywords  category source  \\\n",
              "0  crystal structure, apatite structure type, cal...  articles   doaj   \n",
              "1                                                NaN  articles   doaj   \n",
              "2         Managing reality shock, Graduate engineers  articles   doaj   \n",
              "3  smart home, smart grid, energy management syst...  articles   doaj   \n",
              "4  Semicircular Canals, Dynamic Visual Acuity, He...  articles   doaj   \n",
              "\n",
              "                                             content  \n",
              "0  The title compound, Ca2+xNd8–x(SiO4)6O2–0.5x (...  \n",
              "1  Information about medicinal plants that is ava...  \n",
              "2  The objective of the study is an analysis of t...  \n",
              "3  In the actual era of smart homes and smart gri...  \n",
              "4  The experimental assessment of the vestibulo-o...  "
            ],
            "text/html": [
              "\n",
              "  <div id=\"df-310ddbce-1011-4c9a-8195-bc75bcecee78\" class=\"colab-df-container\">\n",
              "    <div>\n",
              "<style scoped>\n",
              "    .dataframe tbody tr th:only-of-type {\n",
              "        vertical-align: middle;\n",
              "    }\n",
              "\n",
              "    .dataframe tbody tr th {\n",
              "        vertical-align: top;\n",
              "    }\n",
              "\n",
              "    .dataframe thead th {\n",
              "        text-align: right;\n",
              "    }\n",
              "</style>\n",
              "<table border=\"1\" class=\"dataframe\">\n",
              "  <thead>\n",
              "    <tr style=\"text-align: right;\">\n",
              "      <th></th>\n",
              "      <th>title</th>\n",
              "      <th>url</th>\n",
              "      <th>path</th>\n",
              "      <th>keywords</th>\n",
              "      <th>category</th>\n",
              "      <th>source</th>\n",
              "      <th>content</th>\n",
              "    </tr>\n",
              "  </thead>\n",
              "  <tbody>\n",
              "    <tr>\n",
              "      <th>0</th>\n",
              "      <td>Crystal structure of apatite type Ca2.49Nd7.51...</td>\n",
              "      <td>http://scripts.iucr.org/cgi-bin/paper?S2056989...</td>\n",
              "      <td>article_batch_1.csv</td>\n",
              "      <td>crystal structure, apatite structure type, cal...</td>\n",
              "      <td>articles</td>\n",
              "      <td>doaj</td>\n",
              "      <td>The title compound, Ca2+xNd8–x(SiO4)6O2–0.5x (...</td>\n",
              "    </tr>\n",
              "    <tr>\n",
              "      <th>1</th>\n",
              "      <td>Genetic Programming for Medicinal Plant Family...</td>\n",
              "      <td>http://journals.itb.ac.id/index.php/jictra/art...</td>\n",
              "      <td>article_batch_1.csv</td>\n",
              "      <td>NaN</td>\n",
              "      <td>articles</td>\n",
              "      <td>doaj</td>\n",
              "      <td>Information about medicinal plants that is ava...</td>\n",
              "    </tr>\n",
              "    <tr>\n",
              "      <th>2</th>\n",
              "      <td>Managing reality shock: Expectations versus ex...</td>\n",
              "      <td>https://sajip.co.za/index.php/sajip/article/vi...</td>\n",
              "      <td>article_batch_1.csv</td>\n",
              "      <td>Managing reality shock, Graduate engineers</td>\n",
              "      <td>articles</td>\n",
              "      <td>doaj</td>\n",
              "      <td>The objective of the study is an analysis of t...</td>\n",
              "    </tr>\n",
              "    <tr>\n",
              "      <th>3</th>\n",
              "      <td>A Review of Systems and Technologies for Smart...</td>\n",
              "      <td>http://www.mdpi.com/1996-1073/9/5/348</td>\n",
              "      <td>article_batch_1.csv</td>\n",
              "      <td>smart home, smart grid, energy management syst...</td>\n",
              "      <td>articles</td>\n",
              "      <td>doaj</td>\n",
              "      <td>In the actual era of smart homes and smart gri...</td>\n",
              "    </tr>\n",
              "    <tr>\n",
              "      <th>4</th>\n",
              "      <td>Functional testing of the vestibular ocular re...</td>\n",
              "      <td>http://journal.frontiersin.org/Journal/10.3389...</td>\n",
              "      <td>article_batch_1.csv</td>\n",
              "      <td>Semicircular Canals, Dynamic Visual Acuity, He...</td>\n",
              "      <td>articles</td>\n",
              "      <td>doaj</td>\n",
              "      <td>The experimental assessment of the vestibulo-o...</td>\n",
              "    </tr>\n",
              "  </tbody>\n",
              "</table>\n",
              "</div>\n",
              "    <div class=\"colab-df-buttons\">\n",
              "\n",
              "  <div class=\"colab-df-container\">\n",
              "    <button class=\"colab-df-convert\" onclick=\"convertToInteractive('df-310ddbce-1011-4c9a-8195-bc75bcecee78')\"\n",
              "            title=\"Convert this dataframe to an interactive table.\"\n",
              "            style=\"display:none;\">\n",
              "\n",
              "  <svg xmlns=\"http://www.w3.org/2000/svg\" height=\"24px\" viewBox=\"0 -960 960 960\">\n",
              "    <path d=\"M120-120v-720h720v720H120Zm60-500h600v-160H180v160Zm220 220h160v-160H400v160Zm0 220h160v-160H400v160ZM180-400h160v-160H180v160Zm440 0h160v-160H620v160ZM180-180h160v-160H180v160Zm440 0h160v-160H620v160Z\"/>\n",
              "  </svg>\n",
              "    </button>\n",
              "\n",
              "  <style>\n",
              "    .colab-df-container {\n",
              "      display:flex;\n",
              "      gap: 12px;\n",
              "    }\n",
              "\n",
              "    .colab-df-convert {\n",
              "      background-color: #E8F0FE;\n",
              "      border: none;\n",
              "      border-radius: 50%;\n",
              "      cursor: pointer;\n",
              "      display: none;\n",
              "      fill: #1967D2;\n",
              "      height: 32px;\n",
              "      padding: 0 0 0 0;\n",
              "      width: 32px;\n",
              "    }\n",
              "\n",
              "    .colab-df-convert:hover {\n",
              "      background-color: #E2EBFA;\n",
              "      box-shadow: 0px 1px 2px rgba(60, 64, 67, 0.3), 0px 1px 3px 1px rgba(60, 64, 67, 0.15);\n",
              "      fill: #174EA6;\n",
              "    }\n",
              "\n",
              "    .colab-df-buttons div {\n",
              "      margin-bottom: 4px;\n",
              "    }\n",
              "\n",
              "    [theme=dark] .colab-df-convert {\n",
              "      background-color: #3B4455;\n",
              "      fill: #D2E3FC;\n",
              "    }\n",
              "\n",
              "    [theme=dark] .colab-df-convert:hover {\n",
              "      background-color: #434B5C;\n",
              "      box-shadow: 0px 1px 3px 1px rgba(0, 0, 0, 0.15);\n",
              "      filter: drop-shadow(0px 1px 2px rgba(0, 0, 0, 0.3));\n",
              "      fill: #FFFFFF;\n",
              "    }\n",
              "  </style>\n",
              "\n",
              "    <script>\n",
              "      const buttonEl =\n",
              "        document.querySelector('#df-310ddbce-1011-4c9a-8195-bc75bcecee78 button.colab-df-convert');\n",
              "      buttonEl.style.display =\n",
              "        google.colab.kernel.accessAllowed ? 'block' : 'none';\n",
              "\n",
              "      async function convertToInteractive(key) {\n",
              "        const element = document.querySelector('#df-310ddbce-1011-4c9a-8195-bc75bcecee78');\n",
              "        const dataTable =\n",
              "          await google.colab.kernel.invokeFunction('convertToInteractive',\n",
              "                                                    [key], {});\n",
              "        if (!dataTable) return;\n",
              "\n",
              "        const docLinkHtml = 'Like what you see? Visit the ' +\n",
              "          '<a target=\"_blank\" href=https://colab.research.google.com/notebooks/data_table.ipynb>data table notebook</a>'\n",
              "          + ' to learn more about interactive tables.';\n",
              "        element.innerHTML = '';\n",
              "        dataTable['output_type'] = 'display_data';\n",
              "        await google.colab.output.renderOutput(dataTable, element);\n",
              "        const docLink = document.createElement('div');\n",
              "        docLink.innerHTML = docLinkHtml;\n",
              "        element.appendChild(docLink);\n",
              "      }\n",
              "    </script>\n",
              "  </div>\n",
              "\n",
              "\n",
              "<div id=\"df-6bb1977e-e737-4ef8-8494-14b62d667ac4\">\n",
              "  <button class=\"colab-df-quickchart\" onclick=\"quickchart('df-6bb1977e-e737-4ef8-8494-14b62d667ac4')\"\n",
              "            title=\"Suggest charts\"\n",
              "            style=\"display:none;\">\n",
              "\n",
              "<svg xmlns=\"http://www.w3.org/2000/svg\" height=\"24px\"viewBox=\"0 0 24 24\"\n",
              "     width=\"24px\">\n",
              "    <g>\n",
              "        <path d=\"M19 3H5c-1.1 0-2 .9-2 2v14c0 1.1.9 2 2 2h14c1.1 0 2-.9 2-2V5c0-1.1-.9-2-2-2zM9 17H7v-7h2v7zm4 0h-2V7h2v10zm4 0h-2v-4h2v4z\"/>\n",
              "    </g>\n",
              "</svg>\n",
              "  </button>\n",
              "\n",
              "<style>\n",
              "  .colab-df-quickchart {\n",
              "      --bg-color: #E8F0FE;\n",
              "      --fill-color: #1967D2;\n",
              "      --hover-bg-color: #E2EBFA;\n",
              "      --hover-fill-color: #174EA6;\n",
              "      --disabled-fill-color: #AAA;\n",
              "      --disabled-bg-color: #DDD;\n",
              "  }\n",
              "\n",
              "  [theme=dark] .colab-df-quickchart {\n",
              "      --bg-color: #3B4455;\n",
              "      --fill-color: #D2E3FC;\n",
              "      --hover-bg-color: #434B5C;\n",
              "      --hover-fill-color: #FFFFFF;\n",
              "      --disabled-bg-color: #3B4455;\n",
              "      --disabled-fill-color: #666;\n",
              "  }\n",
              "\n",
              "  .colab-df-quickchart {\n",
              "    background-color: var(--bg-color);\n",
              "    border: none;\n",
              "    border-radius: 50%;\n",
              "    cursor: pointer;\n",
              "    display: none;\n",
              "    fill: var(--fill-color);\n",
              "    height: 32px;\n",
              "    padding: 0;\n",
              "    width: 32px;\n",
              "  }\n",
              "\n",
              "  .colab-df-quickchart:hover {\n",
              "    background-color: var(--hover-bg-color);\n",
              "    box-shadow: 0 1px 2px rgba(60, 64, 67, 0.3), 0 1px 3px 1px rgba(60, 64, 67, 0.15);\n",
              "    fill: var(--button-hover-fill-color);\n",
              "  }\n",
              "\n",
              "  .colab-df-quickchart-complete:disabled,\n",
              "  .colab-df-quickchart-complete:disabled:hover {\n",
              "    background-color: var(--disabled-bg-color);\n",
              "    fill: var(--disabled-fill-color);\n",
              "    box-shadow: none;\n",
              "  }\n",
              "\n",
              "  .colab-df-spinner {\n",
              "    border: 2px solid var(--fill-color);\n",
              "    border-color: transparent;\n",
              "    border-bottom-color: var(--fill-color);\n",
              "    animation:\n",
              "      spin 1s steps(1) infinite;\n",
              "  }\n",
              "\n",
              "  @keyframes spin {\n",
              "    0% {\n",
              "      border-color: transparent;\n",
              "      border-bottom-color: var(--fill-color);\n",
              "      border-left-color: var(--fill-color);\n",
              "    }\n",
              "    20% {\n",
              "      border-color: transparent;\n",
              "      border-left-color: var(--fill-color);\n",
              "      border-top-color: var(--fill-color);\n",
              "    }\n",
              "    30% {\n",
              "      border-color: transparent;\n",
              "      border-left-color: var(--fill-color);\n",
              "      border-top-color: var(--fill-color);\n",
              "      border-right-color: var(--fill-color);\n",
              "    }\n",
              "    40% {\n",
              "      border-color: transparent;\n",
              "      border-right-color: var(--fill-color);\n",
              "      border-top-color: var(--fill-color);\n",
              "    }\n",
              "    60% {\n",
              "      border-color: transparent;\n",
              "      border-right-color: var(--fill-color);\n",
              "    }\n",
              "    80% {\n",
              "      border-color: transparent;\n",
              "      border-right-color: var(--fill-color);\n",
              "      border-bottom-color: var(--fill-color);\n",
              "    }\n",
              "    90% {\n",
              "      border-color: transparent;\n",
              "      border-bottom-color: var(--fill-color);\n",
              "    }\n",
              "  }\n",
              "</style>\n",
              "\n",
              "  <script>\n",
              "    async function quickchart(key) {\n",
              "      const quickchartButtonEl =\n",
              "        document.querySelector('#' + key + ' button');\n",
              "      quickchartButtonEl.disabled = true;  // To prevent multiple clicks.\n",
              "      quickchartButtonEl.classList.add('colab-df-spinner');\n",
              "      try {\n",
              "        const charts = await google.colab.kernel.invokeFunction(\n",
              "            'suggestCharts', [key], {});\n",
              "      } catch (error) {\n",
              "        console.error('Error during call to suggestCharts:', error);\n",
              "      }\n",
              "      quickchartButtonEl.classList.remove('colab-df-spinner');\n",
              "      quickchartButtonEl.classList.add('colab-df-quickchart-complete');\n",
              "    }\n",
              "    (() => {\n",
              "      let quickchartButtonEl =\n",
              "        document.querySelector('#df-6bb1977e-e737-4ef8-8494-14b62d667ac4 button');\n",
              "      quickchartButtonEl.style.display =\n",
              "        google.colab.kernel.accessAllowed ? 'block' : 'none';\n",
              "    })();\n",
              "  </script>\n",
              "</div>\n",
              "\n",
              "    </div>\n",
              "  </div>\n"
            ],
            "application/vnd.google.colaboratory.intrinsic+json": {
              "type": "dataframe",
              "variable_name": "df",
              "summary": "{\n  \"name\": \"df\",\n  \"rows\": 58725,\n  \"fields\": [\n    {\n      \"column\": \"title\",\n      \"properties\": {\n        \"dtype\": \"string\",\n        \"num_unique_values\": 58249,\n        \"samples\": [\n          \"Economies: An Open Access Journal for the Field of Development Macroeconomics\",\n          \"Invariant Observer-Based State Estimation for Micro-Aerial Vehicles in GPS-Denied Indoor Environments Using an RGB-D Camera and MEMS Inertial Sensors\",\n          \"Relationship between the temporal changes in positron-emission-tomography-imaging-based textural features and pathologic response and survival in esophageal cancer patients\"\n        ],\n        \"semantic_type\": \"\",\n        \"description\": \"\"\n      }\n    },\n    {\n      \"column\": \"url\",\n      \"properties\": {\n        \"dtype\": \"string\",\n        \"num_unique_values\": 58689,\n        \"samples\": [\n          \"http://dx.doi.org/10.1155/2013/926896\",\n          \"http://journal.frontiersin.org/Journal/10.3389/fchem.2015.00015/full\",\n          \"http://dx.doi.org/10.1155/2013/201424\"\n        ],\n        \"semantic_type\": \"\",\n        \"description\": \"\"\n      }\n    },\n    {\n      \"column\": \"path\",\n      \"properties\": {\n        \"dtype\": \"category\",\n        \"num_unique_values\": 1,\n        \"samples\": [\n          \"article_batch_1.csv\"\n        ],\n        \"semantic_type\": \"\",\n        \"description\": \"\"\n      }\n    },\n    {\n      \"column\": \"keywords\",\n      \"properties\": {\n        \"dtype\": \"string\",\n        \"num_unique_values\": 34424,\n        \"samples\": [\n          \"Strength, Denture repair, Acrylic resins, Reinforcement\"\n        ],\n        \"semantic_type\": \"\",\n        \"description\": \"\"\n      }\n    },\n    {\n      \"column\": \"category\",\n      \"properties\": {\n        \"dtype\": \"category\",\n        \"num_unique_values\": 1,\n        \"samples\": [\n          \"articles\"\n        ],\n        \"semantic_type\": \"\",\n        \"description\": \"\"\n      }\n    },\n    {\n      \"column\": \"source\",\n      \"properties\": {\n        \"dtype\": \"category\",\n        \"num_unique_values\": 1,\n        \"samples\": [\n          \"doaj\"\n        ],\n        \"semantic_type\": \"\",\n        \"description\": \"\"\n      }\n    },\n    {\n      \"column\": \"content\",\n      \"properties\": {\n        \"dtype\": \"string\",\n        \"num_unique_values\": 52982,\n        \"samples\": [\n          \"Background. Iron deficiency anemia (IDA) is a common hematological complication with potentially serious clinical consequences that may require intravenous iron therapy. Ferric carboxymaltose (FCM) is a stable, nondextran iron formulation administered intravenously in large single doses to treat IDA. Objective. Two open-label, randomized, placebo-controlled trials evaluated safety of multiple or single 750\\u2009mg FCM doses compared to standard medical care (SMC) in IDA patients. Secondary endpoints were improvements in hemoglobin and iron indices. Design and Patients. Adults with hemoglobin \\u226412\\u2009g/dL, ferritin \\u2264100 or \\u2264300\\u2009ng/mL with transferrin saturation \\u226430% were randomized to receive single (n=366) or weekly (n=343) FCM or SMC (n=360 and n=366). Results. Significantly greater (P\\u22640.001) increases in hemoglobin and iron indices occurred in FCM groups versus SMC. In the multidose study, up to two infusions of FCM were needed to reach target iron levels versus 3\\u20135 of intravenous iron comparators. FCM and SMC groups had similar incidences and types of adverse events and serious adverse events. Transient hypophosphatemia not associated with adverse events or clinical sequelae occurred in the FCM groups. Conclusion. Intravenous FCM is safe, well tolerated, and associated with improvements in hemoglobin and iron indices comparable to SMC when administered in single doses of up to 750\\u2009mg at a rate of 100\\u2009mg/min. Fewer FCM infusions were required to reach target iron levels compared to other intravenous iron preparations.\"\n        ],\n        \"semantic_type\": \"\",\n        \"description\": \"\"\n      }\n    }\n  ]\n}"
            }
          },
          "metadata": {},
          "execution_count": 11
        }
      ]
    },
    {
      "cell_type": "code",
      "source": [
        "df = df[['title','content']]\n",
        "df.head()"
      ],
      "metadata": {
        "colab": {
          "base_uri": "https://localhost:8080/",
          "height": 206
        },
        "id": "H6D9O7MaV5k1",
        "outputId": "23e87891-683f-47d7-f069-dcbffa638952"
      },
      "execution_count": null,
      "outputs": [
        {
          "output_type": "execute_result",
          "data": {
            "text/plain": [
              "                                               title  \\\n",
              "0  Crystal structure of apatite type Ca2.49Nd7.51...   \n",
              "1  Genetic Programming for Medicinal Plant Family...   \n",
              "2  Managing reality shock: Expectations versus ex...   \n",
              "3  A Review of Systems and Technologies for Smart...   \n",
              "4  Functional testing of the vestibular ocular re...   \n",
              "\n",
              "                                             content  \n",
              "0  The title compound, Ca2+xNd8–x(SiO4)6O2–0.5x (...  \n",
              "1  Information about medicinal plants that is ava...  \n",
              "2  The objective of the study is an analysis of t...  \n",
              "3  In the actual era of smart homes and smart gri...  \n",
              "4  The experimental assessment of the vestibulo-o...  "
            ],
            "text/html": [
              "\n",
              "  <div id=\"df-3288fdd4-ac55-4049-9970-1224338c6270\" class=\"colab-df-container\">\n",
              "    <div>\n",
              "<style scoped>\n",
              "    .dataframe tbody tr th:only-of-type {\n",
              "        vertical-align: middle;\n",
              "    }\n",
              "\n",
              "    .dataframe tbody tr th {\n",
              "        vertical-align: top;\n",
              "    }\n",
              "\n",
              "    .dataframe thead th {\n",
              "        text-align: right;\n",
              "    }\n",
              "</style>\n",
              "<table border=\"1\" class=\"dataframe\">\n",
              "  <thead>\n",
              "    <tr style=\"text-align: right;\">\n",
              "      <th></th>\n",
              "      <th>title</th>\n",
              "      <th>content</th>\n",
              "    </tr>\n",
              "  </thead>\n",
              "  <tbody>\n",
              "    <tr>\n",
              "      <th>0</th>\n",
              "      <td>Crystal structure of apatite type Ca2.49Nd7.51...</td>\n",
              "      <td>The title compound, Ca2+xNd8–x(SiO4)6O2–0.5x (...</td>\n",
              "    </tr>\n",
              "    <tr>\n",
              "      <th>1</th>\n",
              "      <td>Genetic Programming for Medicinal Plant Family...</td>\n",
              "      <td>Information about medicinal plants that is ava...</td>\n",
              "    </tr>\n",
              "    <tr>\n",
              "      <th>2</th>\n",
              "      <td>Managing reality shock: Expectations versus ex...</td>\n",
              "      <td>The objective of the study is an analysis of t...</td>\n",
              "    </tr>\n",
              "    <tr>\n",
              "      <th>3</th>\n",
              "      <td>A Review of Systems and Technologies for Smart...</td>\n",
              "      <td>In the actual era of smart homes and smart gri...</td>\n",
              "    </tr>\n",
              "    <tr>\n",
              "      <th>4</th>\n",
              "      <td>Functional testing of the vestibular ocular re...</td>\n",
              "      <td>The experimental assessment of the vestibulo-o...</td>\n",
              "    </tr>\n",
              "  </tbody>\n",
              "</table>\n",
              "</div>\n",
              "    <div class=\"colab-df-buttons\">\n",
              "\n",
              "  <div class=\"colab-df-container\">\n",
              "    <button class=\"colab-df-convert\" onclick=\"convertToInteractive('df-3288fdd4-ac55-4049-9970-1224338c6270')\"\n",
              "            title=\"Convert this dataframe to an interactive table.\"\n",
              "            style=\"display:none;\">\n",
              "\n",
              "  <svg xmlns=\"http://www.w3.org/2000/svg\" height=\"24px\" viewBox=\"0 -960 960 960\">\n",
              "    <path d=\"M120-120v-720h720v720H120Zm60-500h600v-160H180v160Zm220 220h160v-160H400v160Zm0 220h160v-160H400v160ZM180-400h160v-160H180v160Zm440 0h160v-160H620v160ZM180-180h160v-160H180v160Zm440 0h160v-160H620v160Z\"/>\n",
              "  </svg>\n",
              "    </button>\n",
              "\n",
              "  <style>\n",
              "    .colab-df-container {\n",
              "      display:flex;\n",
              "      gap: 12px;\n",
              "    }\n",
              "\n",
              "    .colab-df-convert {\n",
              "      background-color: #E8F0FE;\n",
              "      border: none;\n",
              "      border-radius: 50%;\n",
              "      cursor: pointer;\n",
              "      display: none;\n",
              "      fill: #1967D2;\n",
              "      height: 32px;\n",
              "      padding: 0 0 0 0;\n",
              "      width: 32px;\n",
              "    }\n",
              "\n",
              "    .colab-df-convert:hover {\n",
              "      background-color: #E2EBFA;\n",
              "      box-shadow: 0px 1px 2px rgba(60, 64, 67, 0.3), 0px 1px 3px 1px rgba(60, 64, 67, 0.15);\n",
              "      fill: #174EA6;\n",
              "    }\n",
              "\n",
              "    .colab-df-buttons div {\n",
              "      margin-bottom: 4px;\n",
              "    }\n",
              "\n",
              "    [theme=dark] .colab-df-convert {\n",
              "      background-color: #3B4455;\n",
              "      fill: #D2E3FC;\n",
              "    }\n",
              "\n",
              "    [theme=dark] .colab-df-convert:hover {\n",
              "      background-color: #434B5C;\n",
              "      box-shadow: 0px 1px 3px 1px rgba(0, 0, 0, 0.15);\n",
              "      filter: drop-shadow(0px 1px 2px rgba(0, 0, 0, 0.3));\n",
              "      fill: #FFFFFF;\n",
              "    }\n",
              "  </style>\n",
              "\n",
              "    <script>\n",
              "      const buttonEl =\n",
              "        document.querySelector('#df-3288fdd4-ac55-4049-9970-1224338c6270 button.colab-df-convert');\n",
              "      buttonEl.style.display =\n",
              "        google.colab.kernel.accessAllowed ? 'block' : 'none';\n",
              "\n",
              "      async function convertToInteractive(key) {\n",
              "        const element = document.querySelector('#df-3288fdd4-ac55-4049-9970-1224338c6270');\n",
              "        const dataTable =\n",
              "          await google.colab.kernel.invokeFunction('convertToInteractive',\n",
              "                                                    [key], {});\n",
              "        if (!dataTable) return;\n",
              "\n",
              "        const docLinkHtml = 'Like what you see? Visit the ' +\n",
              "          '<a target=\"_blank\" href=https://colab.research.google.com/notebooks/data_table.ipynb>data table notebook</a>'\n",
              "          + ' to learn more about interactive tables.';\n",
              "        element.innerHTML = '';\n",
              "        dataTable['output_type'] = 'display_data';\n",
              "        await google.colab.output.renderOutput(dataTable, element);\n",
              "        const docLink = document.createElement('div');\n",
              "        docLink.innerHTML = docLinkHtml;\n",
              "        element.appendChild(docLink);\n",
              "      }\n",
              "    </script>\n",
              "  </div>\n",
              "\n",
              "\n",
              "<div id=\"df-6097f607-d4e6-4243-9c19-1c1fca6f616f\">\n",
              "  <button class=\"colab-df-quickchart\" onclick=\"quickchart('df-6097f607-d4e6-4243-9c19-1c1fca6f616f')\"\n",
              "            title=\"Suggest charts\"\n",
              "            style=\"display:none;\">\n",
              "\n",
              "<svg xmlns=\"http://www.w3.org/2000/svg\" height=\"24px\"viewBox=\"0 0 24 24\"\n",
              "     width=\"24px\">\n",
              "    <g>\n",
              "        <path d=\"M19 3H5c-1.1 0-2 .9-2 2v14c0 1.1.9 2 2 2h14c1.1 0 2-.9 2-2V5c0-1.1-.9-2-2-2zM9 17H7v-7h2v7zm4 0h-2V7h2v10zm4 0h-2v-4h2v4z\"/>\n",
              "    </g>\n",
              "</svg>\n",
              "  </button>\n",
              "\n",
              "<style>\n",
              "  .colab-df-quickchart {\n",
              "      --bg-color: #E8F0FE;\n",
              "      --fill-color: #1967D2;\n",
              "      --hover-bg-color: #E2EBFA;\n",
              "      --hover-fill-color: #174EA6;\n",
              "      --disabled-fill-color: #AAA;\n",
              "      --disabled-bg-color: #DDD;\n",
              "  }\n",
              "\n",
              "  [theme=dark] .colab-df-quickchart {\n",
              "      --bg-color: #3B4455;\n",
              "      --fill-color: #D2E3FC;\n",
              "      --hover-bg-color: #434B5C;\n",
              "      --hover-fill-color: #FFFFFF;\n",
              "      --disabled-bg-color: #3B4455;\n",
              "      --disabled-fill-color: #666;\n",
              "  }\n",
              "\n",
              "  .colab-df-quickchart {\n",
              "    background-color: var(--bg-color);\n",
              "    border: none;\n",
              "    border-radius: 50%;\n",
              "    cursor: pointer;\n",
              "    display: none;\n",
              "    fill: var(--fill-color);\n",
              "    height: 32px;\n",
              "    padding: 0;\n",
              "    width: 32px;\n",
              "  }\n",
              "\n",
              "  .colab-df-quickchart:hover {\n",
              "    background-color: var(--hover-bg-color);\n",
              "    box-shadow: 0 1px 2px rgba(60, 64, 67, 0.3), 0 1px 3px 1px rgba(60, 64, 67, 0.15);\n",
              "    fill: var(--button-hover-fill-color);\n",
              "  }\n",
              "\n",
              "  .colab-df-quickchart-complete:disabled,\n",
              "  .colab-df-quickchart-complete:disabled:hover {\n",
              "    background-color: var(--disabled-bg-color);\n",
              "    fill: var(--disabled-fill-color);\n",
              "    box-shadow: none;\n",
              "  }\n",
              "\n",
              "  .colab-df-spinner {\n",
              "    border: 2px solid var(--fill-color);\n",
              "    border-color: transparent;\n",
              "    border-bottom-color: var(--fill-color);\n",
              "    animation:\n",
              "      spin 1s steps(1) infinite;\n",
              "  }\n",
              "\n",
              "  @keyframes spin {\n",
              "    0% {\n",
              "      border-color: transparent;\n",
              "      border-bottom-color: var(--fill-color);\n",
              "      border-left-color: var(--fill-color);\n",
              "    }\n",
              "    20% {\n",
              "      border-color: transparent;\n",
              "      border-left-color: var(--fill-color);\n",
              "      border-top-color: var(--fill-color);\n",
              "    }\n",
              "    30% {\n",
              "      border-color: transparent;\n",
              "      border-left-color: var(--fill-color);\n",
              "      border-top-color: var(--fill-color);\n",
              "      border-right-color: var(--fill-color);\n",
              "    }\n",
              "    40% {\n",
              "      border-color: transparent;\n",
              "      border-right-color: var(--fill-color);\n",
              "      border-top-color: var(--fill-color);\n",
              "    }\n",
              "    60% {\n",
              "      border-color: transparent;\n",
              "      border-right-color: var(--fill-color);\n",
              "    }\n",
              "    80% {\n",
              "      border-color: transparent;\n",
              "      border-right-color: var(--fill-color);\n",
              "      border-bottom-color: var(--fill-color);\n",
              "    }\n",
              "    90% {\n",
              "      border-color: transparent;\n",
              "      border-bottom-color: var(--fill-color);\n",
              "    }\n",
              "  }\n",
              "</style>\n",
              "\n",
              "  <script>\n",
              "    async function quickchart(key) {\n",
              "      const quickchartButtonEl =\n",
              "        document.querySelector('#' + key + ' button');\n",
              "      quickchartButtonEl.disabled = true;  // To prevent multiple clicks.\n",
              "      quickchartButtonEl.classList.add('colab-df-spinner');\n",
              "      try {\n",
              "        const charts = await google.colab.kernel.invokeFunction(\n",
              "            'suggestCharts', [key], {});\n",
              "      } catch (error) {\n",
              "        console.error('Error during call to suggestCharts:', error);\n",
              "      }\n",
              "      quickchartButtonEl.classList.remove('colab-df-spinner');\n",
              "      quickchartButtonEl.classList.add('colab-df-quickchart-complete');\n",
              "    }\n",
              "    (() => {\n",
              "      let quickchartButtonEl =\n",
              "        document.querySelector('#df-6097f607-d4e6-4243-9c19-1c1fca6f616f button');\n",
              "      quickchartButtonEl.style.display =\n",
              "        google.colab.kernel.accessAllowed ? 'block' : 'none';\n",
              "    })();\n",
              "  </script>\n",
              "</div>\n",
              "\n",
              "    </div>\n",
              "  </div>\n"
            ],
            "application/vnd.google.colaboratory.intrinsic+json": {
              "type": "dataframe",
              "variable_name": "df",
              "summary": "{\n  \"name\": \"df\",\n  \"rows\": 58725,\n  \"fields\": [\n    {\n      \"column\": \"title\",\n      \"properties\": {\n        \"dtype\": \"string\",\n        \"num_unique_values\": 58249,\n        \"samples\": [\n          \"Economies: An Open Access Journal for the Field of Development Macroeconomics\",\n          \"Invariant Observer-Based State Estimation for Micro-Aerial Vehicles in GPS-Denied Indoor Environments Using an RGB-D Camera and MEMS Inertial Sensors\",\n          \"Relationship between the temporal changes in positron-emission-tomography-imaging-based textural features and pathologic response and survival in esophageal cancer patients\"\n        ],\n        \"semantic_type\": \"\",\n        \"description\": \"\"\n      }\n    },\n    {\n      \"column\": \"content\",\n      \"properties\": {\n        \"dtype\": \"string\",\n        \"num_unique_values\": 52982,\n        \"samples\": [\n          \"Background. Iron deficiency anemia (IDA) is a common hematological complication with potentially serious clinical consequences that may require intravenous iron therapy. Ferric carboxymaltose (FCM) is a stable, nondextran iron formulation administered intravenously in large single doses to treat IDA. Objective. Two open-label, randomized, placebo-controlled trials evaluated safety of multiple or single 750\\u2009mg FCM doses compared to standard medical care (SMC) in IDA patients. Secondary endpoints were improvements in hemoglobin and iron indices. Design and Patients. Adults with hemoglobin \\u226412\\u2009g/dL, ferritin \\u2264100 or \\u2264300\\u2009ng/mL with transferrin saturation \\u226430% were randomized to receive single (n=366) or weekly (n=343) FCM or SMC (n=360 and n=366). Results. Significantly greater (P\\u22640.001) increases in hemoglobin and iron indices occurred in FCM groups versus SMC. In the multidose study, up to two infusions of FCM were needed to reach target iron levels versus 3\\u20135 of intravenous iron comparators. FCM and SMC groups had similar incidences and types of adverse events and serious adverse events. Transient hypophosphatemia not associated with adverse events or clinical sequelae occurred in the FCM groups. Conclusion. Intravenous FCM is safe, well tolerated, and associated with improvements in hemoglobin and iron indices comparable to SMC when administered in single doses of up to 750\\u2009mg at a rate of 100\\u2009mg/min. Fewer FCM infusions were required to reach target iron levels compared to other intravenous iron preparations.\",\n          \"Mary P Andersen1, A Read Parham1, J Clifford Waldrep1,2, Wayland N McKenzie1, Rajiv Dhand1,21Division of Pulmonary, Critical Care, and Environmental Medicine, Department of Internal Medicine, University of Missouri, 2Research Services, Harry S Truman Memorial VA Hospital, Columbia, MO, USARationale: A widely applicable model of emphysema that allows efficient and sensitive quantification of injury is needed to compare potential therapies.Objectives: To establish such a model, we studied the relationship between elastase dose and the severity of emphysema in female C57BL/6J mice. We compared alveolar fractal box dimension (DB), a new measure which is an assessment of the complexity of the tissue, with mean linear intercept (Lm), which is commonly used to estimate airspace size, for sensitivity and efficiency of measurement.Methods: Emphysema was induced in female C57BL/6J mice by administering increasing intratracheal doses of porcine pancreatic elastase (PPE). Changes in morphology and static lung compliance (CL) were examined 21 days later. Correlation of DB with Lm was determined in histological sections of lungs exposed to PPE. The inverse relationship between DB and Lm was supported by examining similar morphological sections from another experiment where the development of emphysema was studied 1 to 3 weeks after instillation of human neutrophil elastase (HNE).Results: Lm increased with PPE dose in a sigmoidal curve. CL increased after 80 or 120 U/kg body weight (P &amp;lt; 0.05), but not after 40 U/kg, compared with the control. DB progressively declined from 1.66 &amp;plusmn; 0.002 (standard error of the mean) in controls, to 1.47 &amp;plusmn; 0.006 after 120 U PPE/kg (P &amp;lt; 0.0001). After PPE or HNE instillation, DB was inversely related to Lm (R = &amp;ndash;0.95, P &amp;lt; 0.0001 and R = &amp;ndash;0.84, P = 0.01, respectively), with a more negative slope of the relationship using HNE (P &amp;lt; 0.0001).Conclusion: Intratracheal instillation of increasing doses of PPE yields a scale of progression from mild to severe emphysema. DB correlates inversely with Lm after instillation of either PPE or HNE and yields a rapid, sensitive measure of emphysema after elastase instillation.Keywords: chronic obstructive pulmonary disease, pulmonary emphysema, lung morphometry, lung compliance\",\n          \"In my article on the genus ChydenmUhus Miers in Reinwardtia 10 (1) : 28, 1982, I stated that \\\"the genus, like Barringtouia and Abdid-majidia, has one- seeded fruit\\\". This statement is partially wrong. Abdulmajidla fruit has 2-5 seeds, the main reason that the genus was established (Kochumen in Hit.\"\n        ],\n        \"semantic_type\": \"\",\n        \"description\": \"\"\n      }\n    }\n  ]\n}"
            }
          },
          "metadata": {},
          "execution_count": 12
        }
      ]
    },
    {
      "cell_type": "code",
      "source": [
        "df['tokenized_title'] = df.apply(lambda row: nltk.word_tokenize(str(row['title'])), axis=1)\n",
        "df['count_title'] = df.apply(lambda row: len(row['tokenized_title']), axis=1)\n",
        "df['tokenized_content'] = df.apply(lambda row: nltk.word_tokenize(str(row['content'])), axis=1)\n",
        "df['count_content'] = df.apply(lambda row: len(row['tokenized_content']), axis=1)"
      ],
      "metadata": {
        "id": "KR8uieHoV8lp"
      },
      "execution_count": null,
      "outputs": []
    },
    {
      "cell_type": "code",
      "source": [
        "df.head()"
      ],
      "metadata": {
        "colab": {
          "base_uri": "https://localhost:8080/",
          "height": 293
        },
        "id": "9IO-TRYqWq1F",
        "outputId": "c3346e14-835b-445d-c08a-6ec81dcb5f64"
      },
      "execution_count": null,
      "outputs": [
        {
          "output_type": "execute_result",
          "data": {
            "text/plain": [
              "                                               title  \\\n",
              "0  Crystal structure of apatite type Ca2.49Nd7.51...   \n",
              "1  Genetic Programming for Medicinal Plant Family...   \n",
              "2  Managing reality shock: Expectations versus ex...   \n",
              "3  A Review of Systems and Technologies for Smart...   \n",
              "4  Functional testing of the vestibular ocular re...   \n",
              "\n",
              "                                             content  \\\n",
              "0  The title compound, Ca2+xNd8–x(SiO4)6O2–0.5x (...   \n",
              "1  Information about medicinal plants that is ava...   \n",
              "2  The objective of the study is an analysis of t...   \n",
              "3  In the actual era of smart homes and smart gri...   \n",
              "4  The experimental assessment of the vestibulo-o...   \n",
              "\n",
              "                                     tokenized_title  count_title  \\\n",
              "0  [Crystal, structure, of, apatite, type, Ca2.49...           10   \n",
              "1  [Genetic, Programming, for, Medicinal, Plant, ...            8   \n",
              "2  [Managing, reality, shock, :, Expectations, ve...           10   \n",
              "3  [A, Review, of, Systems, and, Technologies, fo...           12   \n",
              "4  [Functional, testing, of, the, vestibular, ocu...           10   \n",
              "\n",
              "                                   tokenized_content  count_content  \n",
              "0  [The, title, compound, ,, Ca2+xNd8–x, (, SiO4,...            141  \n",
              "1  [Information, about, medicinal, plants, that, ...            253  \n",
              "2  [The, objective, of, the, study, is, an, analy...            112  \n",
              "3  [In, the, actual, era, of, smart, homes, and, ...            134  \n",
              "4  [The, experimental, assessment, of, the, vesti...            204  "
            ],
            "text/html": [
              "\n",
              "  <div id=\"df-bd4a49fe-4bde-4af7-bd98-50637f7ff94c\" class=\"colab-df-container\">\n",
              "    <div>\n",
              "<style scoped>\n",
              "    .dataframe tbody tr th:only-of-type {\n",
              "        vertical-align: middle;\n",
              "    }\n",
              "\n",
              "    .dataframe tbody tr th {\n",
              "        vertical-align: top;\n",
              "    }\n",
              "\n",
              "    .dataframe thead th {\n",
              "        text-align: right;\n",
              "    }\n",
              "</style>\n",
              "<table border=\"1\" class=\"dataframe\">\n",
              "  <thead>\n",
              "    <tr style=\"text-align: right;\">\n",
              "      <th></th>\n",
              "      <th>title</th>\n",
              "      <th>content</th>\n",
              "      <th>tokenized_title</th>\n",
              "      <th>count_title</th>\n",
              "      <th>tokenized_content</th>\n",
              "      <th>count_content</th>\n",
              "    </tr>\n",
              "  </thead>\n",
              "  <tbody>\n",
              "    <tr>\n",
              "      <th>0</th>\n",
              "      <td>Crystal structure of apatite type Ca2.49Nd7.51...</td>\n",
              "      <td>The title compound, Ca2+xNd8–x(SiO4)6O2–0.5x (...</td>\n",
              "      <td>[Crystal, structure, of, apatite, type, Ca2.49...</td>\n",
              "      <td>10</td>\n",
              "      <td>[The, title, compound, ,, Ca2+xNd8–x, (, SiO4,...</td>\n",
              "      <td>141</td>\n",
              "    </tr>\n",
              "    <tr>\n",
              "      <th>1</th>\n",
              "      <td>Genetic Programming for Medicinal Plant Family...</td>\n",
              "      <td>Information about medicinal plants that is ava...</td>\n",
              "      <td>[Genetic, Programming, for, Medicinal, Plant, ...</td>\n",
              "      <td>8</td>\n",
              "      <td>[Information, about, medicinal, plants, that, ...</td>\n",
              "      <td>253</td>\n",
              "    </tr>\n",
              "    <tr>\n",
              "      <th>2</th>\n",
              "      <td>Managing reality shock: Expectations versus ex...</td>\n",
              "      <td>The objective of the study is an analysis of t...</td>\n",
              "      <td>[Managing, reality, shock, :, Expectations, ve...</td>\n",
              "      <td>10</td>\n",
              "      <td>[The, objective, of, the, study, is, an, analy...</td>\n",
              "      <td>112</td>\n",
              "    </tr>\n",
              "    <tr>\n",
              "      <th>3</th>\n",
              "      <td>A Review of Systems and Technologies for Smart...</td>\n",
              "      <td>In the actual era of smart homes and smart gri...</td>\n",
              "      <td>[A, Review, of, Systems, and, Technologies, fo...</td>\n",
              "      <td>12</td>\n",
              "      <td>[In, the, actual, era, of, smart, homes, and, ...</td>\n",
              "      <td>134</td>\n",
              "    </tr>\n",
              "    <tr>\n",
              "      <th>4</th>\n",
              "      <td>Functional testing of the vestibular ocular re...</td>\n",
              "      <td>The experimental assessment of the vestibulo-o...</td>\n",
              "      <td>[Functional, testing, of, the, vestibular, ocu...</td>\n",
              "      <td>10</td>\n",
              "      <td>[The, experimental, assessment, of, the, vesti...</td>\n",
              "      <td>204</td>\n",
              "    </tr>\n",
              "  </tbody>\n",
              "</table>\n",
              "</div>\n",
              "    <div class=\"colab-df-buttons\">\n",
              "\n",
              "  <div class=\"colab-df-container\">\n",
              "    <button class=\"colab-df-convert\" onclick=\"convertToInteractive('df-bd4a49fe-4bde-4af7-bd98-50637f7ff94c')\"\n",
              "            title=\"Convert this dataframe to an interactive table.\"\n",
              "            style=\"display:none;\">\n",
              "\n",
              "  <svg xmlns=\"http://www.w3.org/2000/svg\" height=\"24px\" viewBox=\"0 -960 960 960\">\n",
              "    <path d=\"M120-120v-720h720v720H120Zm60-500h600v-160H180v160Zm220 220h160v-160H400v160Zm0 220h160v-160H400v160ZM180-400h160v-160H180v160Zm440 0h160v-160H620v160ZM180-180h160v-160H180v160Zm440 0h160v-160H620v160Z\"/>\n",
              "  </svg>\n",
              "    </button>\n",
              "\n",
              "  <style>\n",
              "    .colab-df-container {\n",
              "      display:flex;\n",
              "      gap: 12px;\n",
              "    }\n",
              "\n",
              "    .colab-df-convert {\n",
              "      background-color: #E8F0FE;\n",
              "      border: none;\n",
              "      border-radius: 50%;\n",
              "      cursor: pointer;\n",
              "      display: none;\n",
              "      fill: #1967D2;\n",
              "      height: 32px;\n",
              "      padding: 0 0 0 0;\n",
              "      width: 32px;\n",
              "    }\n",
              "\n",
              "    .colab-df-convert:hover {\n",
              "      background-color: #E2EBFA;\n",
              "      box-shadow: 0px 1px 2px rgba(60, 64, 67, 0.3), 0px 1px 3px 1px rgba(60, 64, 67, 0.15);\n",
              "      fill: #174EA6;\n",
              "    }\n",
              "\n",
              "    .colab-df-buttons div {\n",
              "      margin-bottom: 4px;\n",
              "    }\n",
              "\n",
              "    [theme=dark] .colab-df-convert {\n",
              "      background-color: #3B4455;\n",
              "      fill: #D2E3FC;\n",
              "    }\n",
              "\n",
              "    [theme=dark] .colab-df-convert:hover {\n",
              "      background-color: #434B5C;\n",
              "      box-shadow: 0px 1px 3px 1px rgba(0, 0, 0, 0.15);\n",
              "      filter: drop-shadow(0px 1px 2px rgba(0, 0, 0, 0.3));\n",
              "      fill: #FFFFFF;\n",
              "    }\n",
              "  </style>\n",
              "\n",
              "    <script>\n",
              "      const buttonEl =\n",
              "        document.querySelector('#df-bd4a49fe-4bde-4af7-bd98-50637f7ff94c button.colab-df-convert');\n",
              "      buttonEl.style.display =\n",
              "        google.colab.kernel.accessAllowed ? 'block' : 'none';\n",
              "\n",
              "      async function convertToInteractive(key) {\n",
              "        const element = document.querySelector('#df-bd4a49fe-4bde-4af7-bd98-50637f7ff94c');\n",
              "        const dataTable =\n",
              "          await google.colab.kernel.invokeFunction('convertToInteractive',\n",
              "                                                    [key], {});\n",
              "        if (!dataTable) return;\n",
              "\n",
              "        const docLinkHtml = 'Like what you see? Visit the ' +\n",
              "          '<a target=\"_blank\" href=https://colab.research.google.com/notebooks/data_table.ipynb>data table notebook</a>'\n",
              "          + ' to learn more about interactive tables.';\n",
              "        element.innerHTML = '';\n",
              "        dataTable['output_type'] = 'display_data';\n",
              "        await google.colab.output.renderOutput(dataTable, element);\n",
              "        const docLink = document.createElement('div');\n",
              "        docLink.innerHTML = docLinkHtml;\n",
              "        element.appendChild(docLink);\n",
              "      }\n",
              "    </script>\n",
              "  </div>\n",
              "\n",
              "\n",
              "<div id=\"df-e2c99963-ef2d-47d1-8aaf-367cd749fa8a\">\n",
              "  <button class=\"colab-df-quickchart\" onclick=\"quickchart('df-e2c99963-ef2d-47d1-8aaf-367cd749fa8a')\"\n",
              "            title=\"Suggest charts\"\n",
              "            style=\"display:none;\">\n",
              "\n",
              "<svg xmlns=\"http://www.w3.org/2000/svg\" height=\"24px\"viewBox=\"0 0 24 24\"\n",
              "     width=\"24px\">\n",
              "    <g>\n",
              "        <path d=\"M19 3H5c-1.1 0-2 .9-2 2v14c0 1.1.9 2 2 2h14c1.1 0 2-.9 2-2V5c0-1.1-.9-2-2-2zM9 17H7v-7h2v7zm4 0h-2V7h2v10zm4 0h-2v-4h2v4z\"/>\n",
              "    </g>\n",
              "</svg>\n",
              "  </button>\n",
              "\n",
              "<style>\n",
              "  .colab-df-quickchart {\n",
              "      --bg-color: #E8F0FE;\n",
              "      --fill-color: #1967D2;\n",
              "      --hover-bg-color: #E2EBFA;\n",
              "      --hover-fill-color: #174EA6;\n",
              "      --disabled-fill-color: #AAA;\n",
              "      --disabled-bg-color: #DDD;\n",
              "  }\n",
              "\n",
              "  [theme=dark] .colab-df-quickchart {\n",
              "      --bg-color: #3B4455;\n",
              "      --fill-color: #D2E3FC;\n",
              "      --hover-bg-color: #434B5C;\n",
              "      --hover-fill-color: #FFFFFF;\n",
              "      --disabled-bg-color: #3B4455;\n",
              "      --disabled-fill-color: #666;\n",
              "  }\n",
              "\n",
              "  .colab-df-quickchart {\n",
              "    background-color: var(--bg-color);\n",
              "    border: none;\n",
              "    border-radius: 50%;\n",
              "    cursor: pointer;\n",
              "    display: none;\n",
              "    fill: var(--fill-color);\n",
              "    height: 32px;\n",
              "    padding: 0;\n",
              "    width: 32px;\n",
              "  }\n",
              "\n",
              "  .colab-df-quickchart:hover {\n",
              "    background-color: var(--hover-bg-color);\n",
              "    box-shadow: 0 1px 2px rgba(60, 64, 67, 0.3), 0 1px 3px 1px rgba(60, 64, 67, 0.15);\n",
              "    fill: var(--button-hover-fill-color);\n",
              "  }\n",
              "\n",
              "  .colab-df-quickchart-complete:disabled,\n",
              "  .colab-df-quickchart-complete:disabled:hover {\n",
              "    background-color: var(--disabled-bg-color);\n",
              "    fill: var(--disabled-fill-color);\n",
              "    box-shadow: none;\n",
              "  }\n",
              "\n",
              "  .colab-df-spinner {\n",
              "    border: 2px solid var(--fill-color);\n",
              "    border-color: transparent;\n",
              "    border-bottom-color: var(--fill-color);\n",
              "    animation:\n",
              "      spin 1s steps(1) infinite;\n",
              "  }\n",
              "\n",
              "  @keyframes spin {\n",
              "    0% {\n",
              "      border-color: transparent;\n",
              "      border-bottom-color: var(--fill-color);\n",
              "      border-left-color: var(--fill-color);\n",
              "    }\n",
              "    20% {\n",
              "      border-color: transparent;\n",
              "      border-left-color: var(--fill-color);\n",
              "      border-top-color: var(--fill-color);\n",
              "    }\n",
              "    30% {\n",
              "      border-color: transparent;\n",
              "      border-left-color: var(--fill-color);\n",
              "      border-top-color: var(--fill-color);\n",
              "      border-right-color: var(--fill-color);\n",
              "    }\n",
              "    40% {\n",
              "      border-color: transparent;\n",
              "      border-right-color: var(--fill-color);\n",
              "      border-top-color: var(--fill-color);\n",
              "    }\n",
              "    60% {\n",
              "      border-color: transparent;\n",
              "      border-right-color: var(--fill-color);\n",
              "    }\n",
              "    80% {\n",
              "      border-color: transparent;\n",
              "      border-right-color: var(--fill-color);\n",
              "      border-bottom-color: var(--fill-color);\n",
              "    }\n",
              "    90% {\n",
              "      border-color: transparent;\n",
              "      border-bottom-color: var(--fill-color);\n",
              "    }\n",
              "  }\n",
              "</style>\n",
              "\n",
              "  <script>\n",
              "    async function quickchart(key) {\n",
              "      const quickchartButtonEl =\n",
              "        document.querySelector('#' + key + ' button');\n",
              "      quickchartButtonEl.disabled = true;  // To prevent multiple clicks.\n",
              "      quickchartButtonEl.classList.add('colab-df-spinner');\n",
              "      try {\n",
              "        const charts = await google.colab.kernel.invokeFunction(\n",
              "            'suggestCharts', [key], {});\n",
              "      } catch (error) {\n",
              "        console.error('Error during call to suggestCharts:', error);\n",
              "      }\n",
              "      quickchartButtonEl.classList.remove('colab-df-spinner');\n",
              "      quickchartButtonEl.classList.add('colab-df-quickchart-complete');\n",
              "    }\n",
              "    (() => {\n",
              "      let quickchartButtonEl =\n",
              "        document.querySelector('#df-e2c99963-ef2d-47d1-8aaf-367cd749fa8a button');\n",
              "      quickchartButtonEl.style.display =\n",
              "        google.colab.kernel.accessAllowed ? 'block' : 'none';\n",
              "    })();\n",
              "  </script>\n",
              "</div>\n",
              "\n",
              "    </div>\n",
              "  </div>\n"
            ],
            "application/vnd.google.colaboratory.intrinsic+json": {
              "type": "dataframe",
              "variable_name": "df",
              "summary": "{\n  \"name\": \"df\",\n  \"rows\": 58725,\n  \"fields\": [\n    {\n      \"column\": \"title\",\n      \"properties\": {\n        \"dtype\": \"string\",\n        \"num_unique_values\": 58249,\n        \"samples\": [\n          \"Economies: An Open Access Journal for the Field of Development Macroeconomics\",\n          \"Invariant Observer-Based State Estimation for Micro-Aerial Vehicles in GPS-Denied Indoor Environments Using an RGB-D Camera and MEMS Inertial Sensors\",\n          \"Relationship between the temporal changes in positron-emission-tomography-imaging-based textural features and pathologic response and survival in esophageal cancer patients\"\n        ],\n        \"semantic_type\": \"\",\n        \"description\": \"\"\n      }\n    },\n    {\n      \"column\": \"content\",\n      \"properties\": {\n        \"dtype\": \"string\",\n        \"num_unique_values\": 52982,\n        \"samples\": [\n          \"Background. Iron deficiency anemia (IDA) is a common hematological complication with potentially serious clinical consequences that may require intravenous iron therapy. Ferric carboxymaltose (FCM) is a stable, nondextran iron formulation administered intravenously in large single doses to treat IDA. Objective. Two open-label, randomized, placebo-controlled trials evaluated safety of multiple or single 750\\u2009mg FCM doses compared to standard medical care (SMC) in IDA patients. Secondary endpoints were improvements in hemoglobin and iron indices. Design and Patients. Adults with hemoglobin \\u226412\\u2009g/dL, ferritin \\u2264100 or \\u2264300\\u2009ng/mL with transferrin saturation \\u226430% were randomized to receive single (n=366) or weekly (n=343) FCM or SMC (n=360 and n=366). Results. Significantly greater (P\\u22640.001) increases in hemoglobin and iron indices occurred in FCM groups versus SMC. In the multidose study, up to two infusions of FCM were needed to reach target iron levels versus 3\\u20135 of intravenous iron comparators. FCM and SMC groups had similar incidences and types of adverse events and serious adverse events. Transient hypophosphatemia not associated with adverse events or clinical sequelae occurred in the FCM groups. Conclusion. Intravenous FCM is safe, well tolerated, and associated with improvements in hemoglobin and iron indices comparable to SMC when administered in single doses of up to 750\\u2009mg at a rate of 100\\u2009mg/min. Fewer FCM infusions were required to reach target iron levels compared to other intravenous iron preparations.\",\n          \"Mary P Andersen1, A Read Parham1, J Clifford Waldrep1,2, Wayland N McKenzie1, Rajiv Dhand1,21Division of Pulmonary, Critical Care, and Environmental Medicine, Department of Internal Medicine, University of Missouri, 2Research Services, Harry S Truman Memorial VA Hospital, Columbia, MO, USARationale: A widely applicable model of emphysema that allows efficient and sensitive quantification of injury is needed to compare potential therapies.Objectives: To establish such a model, we studied the relationship between elastase dose and the severity of emphysema in female C57BL/6J mice. We compared alveolar fractal box dimension (DB), a new measure which is an assessment of the complexity of the tissue, with mean linear intercept (Lm), which is commonly used to estimate airspace size, for sensitivity and efficiency of measurement.Methods: Emphysema was induced in female C57BL/6J mice by administering increasing intratracheal doses of porcine pancreatic elastase (PPE). Changes in morphology and static lung compliance (CL) were examined 21 days later. Correlation of DB with Lm was determined in histological sections of lungs exposed to PPE. The inverse relationship between DB and Lm was supported by examining similar morphological sections from another experiment where the development of emphysema was studied 1 to 3 weeks after instillation of human neutrophil elastase (HNE).Results: Lm increased with PPE dose in a sigmoidal curve. CL increased after 80 or 120 U/kg body weight (P &amp;lt; 0.05), but not after 40 U/kg, compared with the control. DB progressively declined from 1.66 &amp;plusmn; 0.002 (standard error of the mean) in controls, to 1.47 &amp;plusmn; 0.006 after 120 U PPE/kg (P &amp;lt; 0.0001). After PPE or HNE instillation, DB was inversely related to Lm (R = &amp;ndash;0.95, P &amp;lt; 0.0001 and R = &amp;ndash;0.84, P = 0.01, respectively), with a more negative slope of the relationship using HNE (P &amp;lt; 0.0001).Conclusion: Intratracheal instillation of increasing doses of PPE yields a scale of progression from mild to severe emphysema. DB correlates inversely with Lm after instillation of either PPE or HNE and yields a rapid, sensitive measure of emphysema after elastase instillation.Keywords: chronic obstructive pulmonary disease, pulmonary emphysema, lung morphometry, lung compliance\",\n          \"In my article on the genus ChydenmUhus Miers in Reinwardtia 10 (1) : 28, 1982, I stated that \\\"the genus, like Barringtouia and Abdid-majidia, has one- seeded fruit\\\". This statement is partially wrong. Abdulmajidla fruit has 2-5 seeds, the main reason that the genus was established (Kochumen in Hit.\"\n        ],\n        \"semantic_type\": \"\",\n        \"description\": \"\"\n      }\n    },\n    {\n      \"column\": \"tokenized_title\",\n      \"properties\": {\n        \"dtype\": \"object\",\n        \"semantic_type\": \"\",\n        \"description\": \"\"\n      }\n    },\n    {\n      \"column\": \"count_title\",\n      \"properties\": {\n        \"dtype\": \"number\",\n        \"std\": 6,\n        \"min\": 1,\n        \"max\": 203,\n        \"num_unique_values\": 78,\n        \"samples\": [\n          29,\n          10,\n          31\n        ],\n        \"semantic_type\": \"\",\n        \"description\": \"\"\n      }\n    },\n    {\n      \"column\": \"tokenized_content\",\n      \"properties\": {\n        \"dtype\": \"object\",\n        \"semantic_type\": \"\",\n        \"description\": \"\"\n      }\n    },\n    {\n      \"column\": \"count_content\",\n      \"properties\": {\n        \"dtype\": \"number\",\n        \"std\": 157,\n        \"min\": 0,\n        \"max\": 7420,\n        \"num_unique_values\": 861,\n        \"samples\": [\n          547,\n          585,\n          149\n        ],\n        \"semantic_type\": \"\",\n        \"description\": \"\"\n      }\n    }\n  ]\n}"
            }
          },
          "metadata": {},
          "execution_count": 16
        }
      ]
    },
    {
      "cell_type": "code",
      "source": [
        "# Tokenizar todo el contenido de 'title'\n",
        "all_tokens_title = []\n",
        "for t in df['tokenized_title']:\n",
        "    all_tokens_title.extend(t)"
      ],
      "metadata": {
        "id": "HcrQhIkLWyS3"
      },
      "execution_count": null,
      "outputs": []
    },
    {
      "cell_type": "code",
      "source": [
        "print(\"all_tokens_title =\",len(all_tokens_title))"
      ],
      "metadata": {
        "colab": {
          "base_uri": "https://localhost:8080/"
        },
        "id": "lRN-M-EFXOFu",
        "outputId": "a4faa16b-df14-49a7-e479-e4907d7ba109"
      },
      "execution_count": null,
      "outputs": [
        {
          "output_type": "stream",
          "name": "stdout",
          "text": [
            "all_tokens_title = 820776\n"
          ]
        }
      ]
    },
    {
      "cell_type": "code",
      "source": [
        "# analisis de frecuencia en palabras de 'title'\n",
        "fdist_title = nltk.FreqDist(all_tokens_title)\n",
        "print('Size BoW_title=',len(fdist_title))\n",
        "topwordstitle = fdist_title.most_common(20)"
      ],
      "metadata": {
        "colab": {
          "base_uri": "https://localhost:8080/"
        },
        "id": "XTYrOEmFXQsF",
        "outputId": "7fbbc896-f5bb-4e46-f599-16e55c42268c"
      },
      "execution_count": null,
      "outputs": [
        {
          "output_type": "stream",
          "name": "stdout",
          "text": [
            "Size BoW_title= 108032\n"
          ]
        }
      ]
    },
    {
      "cell_type": "code",
      "source": [
        "x,y = zip(*topwordstitle)\n",
        "plt.figure(figsize=(15,10))\n",
        "plt.bar(x,y)\n",
        "plt.xticks(rotation=90)\n",
        "plt.show()"
      ],
      "metadata": {
        "colab": {
          "base_uri": "https://localhost:8080/",
          "height": 825
        },
        "id": "bdXZViERXVeL",
        "outputId": "1f04b52f-d25a-4819-8889-230b2ec84785"
      },
      "execution_count": null,
      "outputs": [
        {
          "output_type": "display_data",
          "data": {
            "text/plain": [
              "<Figure size 1500x1000 with 1 Axes>"
            ],
            "image/png": "[encoded data removed]"
          },
          "metadata": {}
        }
      ]
    },
    {
      "cell_type": "code",
      "source": [
        "# analisis de frecuencia en palabras de 'content'\n",
        "all_tokens_content = []\n",
        "for t in df['tokenized_content']:\n",
        "    all_tokens_content.extend(t)"
      ],
      "metadata": {
        "id": "HdM3_DqaYcOV"
      },
      "execution_count": null,
      "outputs": []
    },
    {
      "cell_type": "code",
      "source": [
        "print(\"all_tokens_content =\",len(all_tokens_content))"
      ],
      "metadata": {
        "colab": {
          "base_uri": "https://localhost:8080/"
        },
        "id": "ErDhJNn_Yenv",
        "outputId": "1e234571-d73a-46a7-f5cd-80a79c58136e"
      },
      "execution_count": null,
      "outputs": [
        {
          "output_type": "stream",
          "name": "stdout",
          "text": [
            "all_tokens_content = 11458604\n"
          ]
        }
      ]
    },
    {
      "cell_type": "code",
      "source": [
        "# analisis de frecuencia en palabras de 'content'\n",
        "fdist_content = nltk.FreqDist(all_tokens_content)\n",
        "print('Size BoW_content=',len(fdist_content))\n",
        "topwordscontent = fdist_content.most_common(20)"
      ],
      "metadata": {
        "colab": {
          "base_uri": "https://localhost:8080/"
        },
        "id": "l23wTRD5YhUg",
        "outputId": "6d4c909a-7488-472d-f255-b660f4847e6c"
      },
      "execution_count": null,
      "outputs": [
        {
          "output_type": "stream",
          "name": "stdout",
          "text": [
            "Size BoW_content= 359329\n"
          ]
        }
      ]
    },
    {
      "cell_type": "code",
      "source": [
        "x,y = zip(*topwordscontent)\n",
        "plt.figure(figsize=(15,10))\n",
        "plt.bar(x,y)\n",
        "plt.xticks(rotation=90)\n",
        "plt.show()"
      ],
      "metadata": {
        "colab": {
          "base_uri": "https://localhost:8080/",
          "height": 824
        },
        "id": "qxt1pH6sYlFK",
        "outputId": "120716a9-2f2c-4306-97ce-4f3848da47de"
      },
      "execution_count": null,
      "outputs": [
        {
          "output_type": "display_data",
          "data": {
            "text/plain": [
              "<Figure size 1500x1000 with 1 Axes>"
            ],
            "image/png": "[encoded data removed]"
          },
          "metadata": {}
        }
      ]
    },
    {
      "cell_type": "code",
      "source": [
        "# stopwords en nltk\n",
        "from nltk.corpus import stopwords\n",
        "\n",
        "stop_words_nltk = set(stopwords.words('english'))\n",
        "print(len(stop_words_nltk))\n",
        "print(stop_words_nltk)"
      ],
      "metadata": {
        "colab": {
          "base_uri": "https://localhost:8080/"
        },
        "id": "C0zqD1nIYudj",
        "outputId": "f40bbb50-627c-42fa-a7cf-8f633fab682c"
      },
      "execution_count": null,
      "outputs": [
        {
          "output_type": "stream",
          "name": "stdout",
          "text": [
            "179\n",
            "{'herself', 're', 'nor', \"doesn't\", 'had', 'be', 'it', 'own', 'yours', 'because', \"needn't\", 'theirs', 'isn', 'didn', 'himself', 'some', 'through', 'being', 'again', 'its', 'against', 'than', 'don', 'your', \"weren't\", 'needn', 'too', 'whom', 's', 'did', 'do', 'y', 'up', 'should', 'who', 'no', 'does', \"haven't\", 'that', 'at', 'yourself', \"won't\", 'here', 've', 'we', \"wouldn't\", 'not', 'm', \"hasn't\", 'her', 'hadn', \"that'll\", 'between', 'are', 'until', 'aren', \"didn't\", 'd', 'very', 'their', \"should've\", 'haven', 'only', \"isn't\", 'me', 'ourselves', 'about', 'which', 'yourselves', 'now', 'into', 'will', 'why', \"shouldn't\", 'how', \"you've\", 'such', 'won', 'as', 'ma', 'after', 'under', 'out', 'for', 'above', \"you'll\", 'his', 'll', \"hadn't\", \"mustn't\", 'more', 'during', 'from', 'i', 'further', \"you'd\", 'to', 'myself', \"don't\", 'just', 'am', 'my', 'below', 'were', 'off', 'weren', 'when', \"couldn't\", 'on', 'these', \"mightn't\", 't', 'have', 'ours', 'mightn', 'before', 'or', \"aren't\", 'they', 'has', 'both', 'this', \"wasn't\", 'each', 'couldn', 'of', 'our', 'few', 'most', 'shouldn', 'the', 'what', 'mustn', 'over', \"she's\", 'doesn', 'where', 'shan', 'and', 'there', 'been', 'hers', 'ain', 'themselves', \"it's\", 'while', 'once', 'you', 'all', 'by', 'down', 'he', 'wasn', 'if', 'o', 'him', 'with', 'can', 'so', 'an', 'in', 'those', 'doing', 'is', 'was', 'itself', 'she', 'then', 'wouldn', 'any', 'same', \"shan't\", 'hasn', \"you're\", 'them', 'but', 'other', 'a', 'having'}\n"
          ]
        }
      ]
    },
    {
      "cell_type": "code",
      "source": [
        "# TOKENIZAR con nltk,\n",
        "# ELIMINAR tokens de long = 1\n",
        "# ELIMINAR caracteres que no sean alfanumericos\n",
        "# REMOVER stop words\n",
        "# graficar los 20 términos más frecuentes:\n",
        "\n",
        "# ya tokenizado en all_tokens_title o all_tokens_content\n",
        "tokens = [w.lower() for w in all_tokens_title if len(w)>1]\n",
        "tokens = [re.sub(r'[^A-Za-z0-9]+','',w) for w in tokens]\n",
        "tokens = [w for w in tokens if w not in stop_words_nltk]\n",
        "\n",
        "fdist = nltk.FreqDist(tokens)\n",
        "topwords = fdist.most_common(20)\n",
        "print('Size of new BoW title =',len(fdist))\n",
        "x,y = zip(*topwords)\n",
        "plt.figure(figsize=(15,10))\n",
        "plt.bar(x,y)\n",
        "plt.xticks(rotation=90)\n",
        "plt.show()"
      ],
      "metadata": {
        "colab": {
          "base_uri": "https://localhost:8080/",
          "height": 885
        },
        "id": "nx38jz48ZHlz",
        "outputId": "e742b585-02d7-4371-b46e-8655134deea4"
      },
      "execution_count": null,
      "outputs": [
        {
          "output_type": "stream",
          "name": "stdout",
          "text": [
            "Size of new BoW title = 80375\n"
          ]
        },
        {
          "output_type": "display_data",
          "data": {
            "text/plain": [
              "<Figure size 1500x1000 with 1 Axes>"
            ],
            "image/png": "[encoded data removed]"
          },
          "metadata": {}
        }
      ]
    },
    {
      "cell_type": "code",
      "source": [
        "# Stemming con NLTK\n",
        "\n",
        "from nltk.stem import PorterStemmer\n",
        "from nltk.stem import LancasterStemmer\n",
        "\n",
        "porter = PorterStemmer()\n",
        "lancaster = LancasterStemmer()\n",
        "\n",
        "#tokens = [porter.stem(w) for w in tokens]\n",
        "tokens = [lancaster.stem(w) for w in tokens]\n",
        "\n",
        "fdist = nltk.FreqDist(tokens)\n",
        "topwords = fdist.most_common(20)\n",
        "print('Size of new BoW title =',len(fdist))\n",
        "x,y = zip(*topwords)\n",
        "plt.figure(figsize=(15,10))\n",
        "plt.bar(x,y)\n",
        "plt.xticks(rotation=90)\n",
        "plt.show()"
      ],
      "metadata": {
        "colab": {
          "base_uri": "https://localhost:8080/",
          "height": 865
        },
        "id": "5s62CzdiZKqI",
        "outputId": "9d994560-eccb-4633-99ca-548c0079ebd0"
      },
      "execution_count": null,
      "outputs": [
        {
          "output_type": "stream",
          "name": "stdout",
          "text": [
            "Size of new BoW title = 61444\n"
          ]
        },
        {
          "output_type": "display_data",
          "data": {
            "text/plain": [
              "<Figure size 1500x1000 with 1 Axes>"
            ],
            "image/png": "[encoded data removed]"
          },
          "metadata": {}
        }
      ]
    },
    {
      "cell_type": "code",
      "source": [
        "# Lemmatization con NLTK\n",
        "\n",
        "from nltk.stem import WordNetLemmatizer\n",
        "import nltk\n",
        "nltk.download('wordnet')\n",
        "\n",
        "\n",
        "wordnet_lemmatizer = WordNetLemmatizer()\n",
        "\n",
        "#tokens = [wordnet_lemmatizer.lemmatize(w, pos=\"v\") for w in tokens ]\n",
        "tokens = [wordnet_lemmatizer.lemmatize(w) for w in tokens ]\n",
        "\n",
        "fdist = nltk.FreqDist(tokens)\n",
        "topwords = fdist.most_common(20)\n",
        "print('Size of new BoW title =',len(fdist))\n",
        "x,y = zip(*topwords)\n",
        "plt.figure(figsize=(15,10))\n",
        "plt.bar(x,y)\n",
        "plt.xticks(rotation=90)\n",
        "plt.show()"
      ],
      "metadata": {
        "colab": {
          "base_uri": "https://localhost:8080/",
          "height": 883
        },
        "id": "oeINZbHdZOip",
        "outputId": "71da4325-bc0b-4885-a9c0-a03e0882f6d2"
      },
      "execution_count": null,
      "outputs": [
        {
          "output_type": "stream",
          "name": "stderr",
          "text": [
            "[nltk_data] Downloading package wordnet to /root/nltk_data...\n"
          ]
        },
        {
          "output_type": "stream",
          "name": "stdout",
          "text": [
            "Size of new BoW title = 61144\n"
          ]
        },
        {
          "output_type": "display_data",
          "data": {
            "text/plain": [
              "<Figure size 1500x1000 with 1 Axes>"
            ],
            "image/png": "[encoded data removed]"
          },
          "metadata": {}
        }
      ]
    },
    {
      "cell_type": "markdown",
      "source": [
        "## Algunas funciones de mejoras para la tokenización:"
      ],
      "metadata": {
        "id": "XA95JmePao4e"
      }
    },
    {
      "cell_type": "code",
      "source": [
        "tokens = [re.sub(r'[^A-Za-z0-9]+','',w) for w in all_tokens_content]\n",
        "tokens = [w.lower() for w in tokens if len(w)>1]\n",
        "tokens = [w for w in tokens if w.isalpha()]\n",
        "fdist = nltk.FreqDist(tokens)\n",
        "topwords = fdist.most_common(20)\n",
        "print('Size of new BoW title =',len(fdist))\n",
        "x,y = zip(*topwords)\n",
        "plt.figure(figsize=(15,10))\n",
        "plt.bar(x,y)\n",
        "plt.xticks(rotation=90)\n",
        "plt.show()"
      ],
      "metadata": {
        "colab": {
          "base_uri": "https://localhost:8080/",
          "height": 839
        },
        "id": "5kG0-CvWaA-V",
        "outputId": "1a250739-a316-4367-8f72-cdfb7b94dbe1"
      },
      "execution_count": null,
      "outputs": [
        {
          "output_type": "stream",
          "name": "stdout",
          "text": [
            "Size of new BoW title = 233778\n"
          ]
        },
        {
          "output_type": "display_data",
          "data": {
            "text/plain": [
              "<Figure size 1500x1000 with 1 Axes>"
            ],
            "image/png": "[encoded data removed]"
          },
          "metadata": {}
        }
      ]
    }
  ]
}